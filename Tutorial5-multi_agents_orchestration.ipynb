{
 "cells": [
  {
   "cell_type": "code",
   "execution_count": 2,
   "id": "6e5e8836",
   "metadata": {},
   "outputs": [
    {
     "name": "stdout",
     "output_type": "stream",
     "text": [
      "# 用户输入英文:\n",
      "AA language model is a model of the human brain's ability to produce natural language.[1][2] Language models are useful for a variety of tasks, including speech recognition,[3] machine translation,[4] natural language generation (generating more human-like text), optical character recognition, route optimization,[5] handwriting recognition,[6] grammar induction,[7] and information retrieval.[8][9]\n",
      "Large language models (LLMs), currently their most advanced form, are predominantly based on transformers trained on larger datasets (frequently using texts scraped from the public internet). They have superseded recurrent neural network-based models, which had previously superseded the purely statistical models, such as the word n-gram language model.\n",
      "\n",
      "----------------------------------------\n",
      "\n",
      "# Translator 输出（中文翻译）：\n",
      "AA语言模型是模拟人类大脑产生自然语言的模型。语言模型在各种任务中非常有用，包括语音识别、机器翻译、自然语言生成（生成更接近人类的文本）、光学字符识别、路径优化、手写识别、语法归纳和信息检索。\n",
      "大型语言模型（LLMs）目前是最先进的形式，主要基于在更大数据集上训练的transformers（经常使用从公共互联网上抓取的文本）。它们已经取代了基于循环神经网络的模型，后者曾经取代了纯统计模型，比如词n-gram语言模型。\n",
      "\n",
      "----------------------------------------\n",
      "\n",
      "# Summarizer 输出（摘要结果）：\n",
      "AA语言模型是模拟人类大脑产生自然语言的模型，在语音识别、机器翻译、自然语言生成等任务中非常有用。大型语言模型（LLMs）是目前最先进的形式，基于transformers在更大数据集上训练，已经取代了基于循环神经网络的模型。\n",
      "\n",
      "----------------------------------------\n",
      "\n"
     ]
    }
   ],
   "source": [
    "from langchain.chat_models import ChatOpenAI\n",
    "from langchain.schema import SystemMessage, HumanMessage\n",
    "from dotenv import load_dotenv\n",
    "from langchain.chat_models import ChatOpenAI\n",
    "import os\n",
    "\n",
    "load_dotenv()\n",
    "\n",
    "\n",
    "\n",
    "# 定义 Translator Agent\n",
    "translator = ChatOpenAI(\n",
    "    model_name=\"gpt-3.5-turbo\",\n",
    "    temperature=0.2,\n",
    "    openai_api_key=os.getenv(\"OPENAI_API_KEY\")\n",
    ")\n",
    "translator_system_prompt = SystemMessage(content=\"你是一个专业的中英翻译，请将用户输入的英文准确翻译成中文。\")\n",
    "\n",
    "# 定义 Summarizer Agent\n",
    "summarizer = ChatOpenAI(\n",
    "    model_name=\"gpt-3.5-turbo\",\n",
    "    temperature=0.2,\n",
    "    openai_api_key=os.getenv(\"OPENAI_API_KEY\")\n",
    ")\n",
    "summarizer_system_prompt = SystemMessage(content=\"你是一个专业的中文摘要助手，请对用户输入的中文内容进行简明扼要的总结。\")\n",
    "\n",
    "# 用户输入英文\n",
    "def print_divider():\n",
    "    print(\"\\n\" + \"-\"*40 + \"\\n\")\n",
    "\n",
    "user_input = \"\"\"AA language model is a model of the human brain's ability to produce natural language.[1][2] Language models are useful for a variety of tasks, including speech recognition,[3] machine translation,[4] natural language generation (generating more human-like text), optical character recognition, route optimization,[5] handwriting recognition,[6] grammar induction,[7] and information retrieval.[8][9]\n",
    "Large language models (LLMs), currently their most advanced form, are predominantly based on transformers trained on larger datasets (frequently using texts scraped from the public internet). They have superseded recurrent neural network-based models, which had previously superseded the purely statistical models, such as the word n-gram language model.\"\"\"\n",
    "print('# 用户输入英文:')\n",
    "print(user_input)\n",
    "\n",
    "print_divider()\n",
    "\n",
    "# Step 1: Translator 负责翻译\n",
    "translator_response = translator([\n",
    "    translator_system_prompt,\n",
    "    HumanMessage(content=user_input)\n",
    "])\n",
    "chinese_text = translator_response.content\n",
    "print('# Translator 输出（中文翻译）：')\n",
    "print(chinese_text)\n",
    "\n",
    "print_divider()\n",
    "\n",
    "# Step 2: Summarizer 负责摘要\n",
    "summarizer_response = summarizer([\n",
    "    summarizer_system_prompt,\n",
    "    HumanMessage(content=chinese_text)\n",
    "])\n",
    "summary = summarizer_response.content\n",
    "print('# Summarizer 输出（摘要结果）：')\n",
    "print(summary)\n",
    "\n",
    "print_divider()"
   ]
  }
 ],
 "metadata": {
  "kernelspec": {
   "display_name": "Python 3",
   "language": "python",
   "name": "python3"
  },
  "language_info": {
   "codemirror_mode": {
    "name": "ipython",
    "version": 3
   },
   "file_extension": ".py",
   "mimetype": "text/x-python",
   "name": "python",
   "nbconvert_exporter": "python",
   "pygments_lexer": "ipython3",
   "version": "3.9.6"
  }
 },
 "nbformat": 4,
 "nbformat_minor": 5
}
