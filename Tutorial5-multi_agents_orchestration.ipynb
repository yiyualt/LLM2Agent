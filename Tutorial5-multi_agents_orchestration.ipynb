{
 "cells": [
  {
   "cell_type": "code",
   "execution_count": null,
   "id": "6e5e8836",
   "metadata": {},
   "outputs": [
    {
     "name": "stderr",
     "output_type": "stream",
     "text": [
      "/Users/yiyu/Library/Python/3.9/lib/python/site-packages/urllib3/__init__.py:35: NotOpenSSLWarning: urllib3 v2 only supports OpenSSL 1.1.1+, currently the 'ssl' module is compiled with 'LibreSSL 2.8.3'. See: https://github.com/urllib3/urllib3/issues/3020\n",
      "  warnings.warn(\n",
      "/var/folders/7f/0r16ttds6_s0s1yvmw8sclvw0000gn/T/ipykernel_24666/2319144214.py:12: LangChainDeprecationWarning: The class `ChatOpenAI` was deprecated in LangChain 0.0.10 and will be removed in 1.0. An updated version of the class exists in the :class:`~langchain-openai package and should be used instead. To use it run `pip install -U :class:`~langchain-openai` and import as `from :class:`~langchain_openai import ChatOpenAI``.\n",
      "  translator = ChatOpenAI(\n"
     ]
    },
    {
     "name": "stdout",
     "output_type": "stream",
     "text": [
      "# 用户输入英文:\n",
      "Large Language Models are transforming the field of artificial intelligence by enabling more natural and effective human-computer interaction.\n",
      "\n",
      "----------------------------------------\n",
      "\n"
     ]
    },
    {
     "name": "stderr",
     "output_type": "stream",
     "text": [
      "/var/folders/7f/0r16ttds6_s0s1yvmw8sclvw0000gn/T/ipykernel_24666/2319144214.py:38: LangChainDeprecationWarning: The method `BaseChatModel.__call__` was deprecated in langchain-core 0.1.7 and will be removed in 1.0. Use :meth:`~invoke` instead.\n",
      "  translator_response = translator([\n"
     ]
    },
    {
     "name": "stdout",
     "output_type": "stream",
     "text": [
      "# Translator 输出（中文翻译）：\n",
      "大型语言模型正在通过实现更自然和有效的人机交互，改变人工智能领域。\n",
      "\n",
      "----------------------------------------\n",
      "\n",
      "# Summarizer 输出（摘要结果）：\n",
      "大型语言模型正在改变人工智能领域，通过实现更自然和有效的人机交互。\n",
      "\n",
      "----------------------------------------\n",
      "\n"
     ]
    }
   ],
   "source": [
    "from langchain.chat_models import ChatOpenAI\n",
    "from langchain.schema import SystemMessage, HumanMessage\n",
    "from dotenv import load_dotenv\n",
    "from langchain.chat_models import ChatOpenAI\n",
    "import os\n",
    "\n",
    "load_dotenv()\n",
    "\n",
    "\n",
    "\n",
    "# 定义 Translator Agent\n",
    "translator = ChatOpenAI(\n",
    "    model_name=\"gpt-3.5-turbo\",\n",
    "    temperature=0.2,\n",
    "    openai_api_key=os.getenv(\"OPENAI_API_KEY\")\n",
    ")\n",
    "translator_system_prompt = SystemMessage(content=\"你是一个专业的中英翻译，请将用户输入的英文准确翻译成中文。\")\n",
    "\n",
    "# 定义 Summarizer Agent\n",
    "summarizer = ChatOpenAI(\n",
    "    model_name=\"gpt-3.5-turbo\",\n",
    "    temperature=0.2,\n",
    "    openai_api_key=os.getenv(\"OPENAI_API_KEY\")\n",
    ")\n",
    "summarizer_system_prompt = SystemMessage(content=\"你是一个专业的中文摘要助手，请对用户输入的中文内容进行简明扼要的总结。\")\n",
    "\n",
    "# 用户输入英文\n",
    "def print_divider():\n",
    "    print(\"\\n\" + \"-\"*40 + \"\\n\")\n",
    "\n",
    "user_input = 'A language model is a model of the human brain's ability to produce natural language.[1][2] Language models are useful for a variety of tasks, including speech recognition,[3] machine translation,[4] natural language generation (generating more human-like text), optical character recognition, route optimization,[5] handwriting recognition,[6] grammar induction,[7] and information retrieval.[8][9]\n",
    "\n",
    "Large language models (LLMs), currently their most advanced form, are predominantly based on transformers trained on larger datasets (frequently using texts scraped from the public internet). They have superseded recurrent neural network-based models, which had previously superseded the purely statistical models, such as the word n-gram language model.'\n",
    "print('# 用户输入英文:')\n",
    "print(user_input)\n",
    "\n",
    "print_divider()\n",
    "\n",
    "# Step 1: Translator 负责翻译\n",
    "translator_response = translator([\n",
    "    translator_system_prompt,\n",
    "    HumanMessage(content=user_input)\n",
    "])\n",
    "chinese_text = translator_response.content\n",
    "print('# Translator 输出（中文翻译）：')\n",
    "print(chinese_text)\n",
    "\n",
    "print_divider()\n",
    "\n",
    "# Step 2: Summarizer 负责摘要\n",
    "summarizer_response = summarizer([\n",
    "    summarizer_system_prompt,\n",
    "    HumanMessage(content=chinese_text)\n",
    "])\n",
    "summary = summarizer_response.content\n",
    "print('# Summarizer 输出（摘要结果）：')\n",
    "print(summary)\n",
    "\n",
    "print_divider()"
   ]
  }
 ],
 "metadata": {
  "kernelspec": {
   "display_name": "Python 3",
   "language": "python",
   "name": "python3"
  },
  "language_info": {
   "codemirror_mode": {
    "name": "ipython",
    "version": 3
   },
   "file_extension": ".py",
   "mimetype": "text/x-python",
   "name": "python",
   "nbconvert_exporter": "python",
   "pygments_lexer": "ipython3",
   "version": "3.9.6"
  }
 },
 "nbformat": 4,
 "nbformat_minor": 5
}
