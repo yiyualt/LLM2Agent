{
 "cells": [
  {
   "cell_type": "code",
   "execution_count": 5,
   "id": "6454a4d9",
   "metadata": {},
   "outputs": [
    {
     "name": "stdout",
     "output_type": "stream",
     "text": [
      "\n",
      "\n",
      "\u001b[1m> Entering new AgentExecutor chain...\u001b[0m\n",
      "\u001b[32;1m\u001b[1;3m\n",
      "Invoking: `create_file` with `{'filename': 'demo.txt', 'content': 'hello world'}`\n",
      "\n",
      "\n",
      "\u001b[0m\u001b[33;1m\u001b[1;3m已创建文件 demo.txt。\u001b[0m\n",
      "\u001b[32;1m\u001b[1;3m\u001b[0m\n",
      "\n",
      "\u001b[1m> Finished chain.\u001b[0m\n",
      "已创建文件 demo.txt。\n",
      "\n",
      "\n",
      "\u001b[1m> Entering new AgentExecutor chain...\u001b[0m\n",
      "\u001b[32;1m\u001b[1;3m\n",
      "Invoking: `delete_file` with `{'filename': 'demo.txt'}`\n",
      "\n",
      "\n",
      "\u001b[0m\u001b[36;1m\u001b[1;3m已删除文件 demo.txt。\u001b[0m\n",
      "\u001b[32;1m\u001b[1;3m\u001b[0m\n",
      "\n",
      "\u001b[1m> Finished chain.\u001b[0m\n",
      "已删除文件 demo.txt。\n"
     ]
    }
   ],
   "source": [
    "from langchain_openai import ChatOpenAI\n",
    "from langchain.tools import tool\n",
    "from langchain.agents import initialize_agent, AgentType\n",
    "from dotenv import load_dotenv\n",
    "import os\n",
    "\n",
    "# 加载环境变量（请将你的 OpenAI API key 存入 .env 文件）\n",
    "load_dotenv()\n",
    "\n",
    "# 定义工具函数\n",
    "@tool(\"delete_file\", return_direct=True)\n",
    "def delete_file(filename: str) -> str:\n",
    "    \"\"\"删除指定文件\"\"\"\n",
    "    import os\n",
    "    if not os.path.exists(filename):\n",
    "        return f\"文件 {filename} 不存在。\"\n",
    "    os.remove(filename)\n",
    "    return f\"已删除文件 {filename}。\"\n",
    "\n",
    "@tool(\"create_file\", return_direct=True)\n",
    "def create_file(filename: str, content: str = \"\") -> str:\n",
    "    \"\"\"创建新文件并写入内容\"\"\"\n",
    "    import os\n",
    "    if os.path.exists(filename):\n",
    "        return f\"文件 {filename} 已存在。\"\n",
    "    with open(filename, 'w', encoding='utf-8') as f:\n",
    "        f.write(content)\n",
    "    return f\"已创建文件 {filename}。\"\n",
    "\n",
    "# 初始化 LLM\n",
    "chat = ChatOpenAI(\n",
    "    model_name=\"gpt-3.5-turbo\",\n",
    "    temperature=0.7,\n",
    "    openai_api_key=os.getenv(\"OPENAI_API_KEY\")\n",
    ")\n",
    "\n",
    "# 注册工具\n",
    "tools = [delete_file, create_file]\n",
    "\n",
    "# 初始化 agent（function calling agent）\n",
    "agent = initialize_agent(\n",
    "    tools,\n",
    "    chat,\n",
    "    agent=AgentType.OPENAI_FUNCTIONS,\n",
    "    verbose=True\n",
    ")\n",
    "\n",
    "# 示例对话\n",
    "result = agent.run(\"请创建文件 demo.txt 内容为 hello world\")\n",
    "print(result)\n",
    "\n",
    "result = agent.run(\"删除文件 demo.txt\")\n",
    "print(result) "
   ]
  }
 ],
 "metadata": {
  "kernelspec": {
   "display_name": "Python 3",
   "language": "python",
   "name": "python3"
  },
  "language_info": {
   "codemirror_mode": {
    "name": "ipython",
    "version": 3
   },
   "file_extension": ".py",
   "mimetype": "text/x-python",
   "name": "python",
   "nbconvert_exporter": "python",
   "pygments_lexer": "ipython3",
   "version": "3.9.6"
  }
 },
 "nbformat": 4,
 "nbformat_minor": 5
}
