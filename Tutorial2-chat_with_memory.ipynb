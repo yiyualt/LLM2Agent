{
 "cells": [
  {
   "cell_type": "markdown",
   "id": "47c18d0c",
   "metadata": {},
   "source": [
    "### Without Memory"
   ]
  },
  {
   "cell_type": "code",
   "execution_count": 1,
   "id": "4b4dda0e",
   "metadata": {},
   "outputs": [
    {
     "name": "stderr",
     "output_type": "stream",
     "text": [
      "/Users/yiyu/Library/Python/3.9/lib/python/site-packages/urllib3/__init__.py:35: NotOpenSSLWarning: urllib3 v2 only supports OpenSSL 1.1.1+, currently the 'ssl' module is compiled with 'LibreSSL 2.8.3'. See: https://github.com/urllib3/urllib3/issues/3020\n",
      "  warnings.warn(\n",
      "/var/folders/7f/0r16ttds6_s0s1yvmw8sclvw0000gn/T/ipykernel_18472/3255349343.py:12: LangChainDeprecationWarning: The class `ChatOpenAI` was deprecated in LangChain 0.0.10 and will be removed in 1.0. An updated version of the class exists in the :class:`~langchain-openai package and should be used instead. To use it run `pip install -U :class:`~langchain-openai` and import as `from :class:`~langchain_openai import ChatOpenAI``.\n",
      "  chat = ChatOpenAI(\n",
      "/var/folders/7f/0r16ttds6_s0s1yvmw8sclvw0000gn/T/ipykernel_18472/3255349343.py:19: LangChainDeprecationWarning: The method `BaseChatModel.__call__` was deprecated in langchain-core 0.1.7 and will be removed in 1.0. Use :meth:`~invoke` instead.\n",
      "  response = chat([\n"
     ]
    },
    {
     "name": "stdout",
     "output_type": "stream",
     "text": [
      "Hello Joseph Yu, how can I assist you today?\n",
      "I'm sorry, I don't know your name as I am an AI assistant and do not have access to personal information.\n"
     ]
    }
   ],
   "source": [
    "from langchain.chat_models import ChatOpenAI\n",
    "from langchain.schema import HumanMessage, SystemMessage\n",
    "from dotenv import load_dotenv\n",
    "import os\n",
    "\n",
    "# Load environment variables (store your OpenAI API key in .env)\n",
    "\n",
    "\n",
    "load_dotenv()\n",
    "\n",
    "# Initialize the chat model\n",
    "chat = ChatOpenAI(\n",
    "    model_name=\"gpt-3.5-turbo\",\n",
    "    temperature=0.7,\n",
    "    openai_api_key=os.getenv(\"OPENAI_API_KEY\")\n",
    ")\n",
    "\n",
    "# Simple one-off message\n",
    "response = chat([\n",
    "    SystemMessage(content=\"You need to keep track of the conversation history\"),\n",
    "    HumanMessage(content=\"Hi, my name is Joseph Yu.\")\n",
    "])\n",
    "print(response.content)\n",
    "\n",
    "\n",
    "response = chat([\n",
    "    HumanMessage(content=\"What is my name?\")\n",
    "])\n",
    "print(response.content)"
   ]
  },
  {
   "cell_type": "markdown",
   "id": "39301ae4",
   "metadata": {},
   "source": [
    "### With Memory"
   ]
  },
  {
   "cell_type": "code",
   "execution_count": 3,
   "id": "3aa49319",
   "metadata": {},
   "outputs": [
    {
     "name": "stdout",
     "output_type": "stream",
     "text": [
      "Hello Yiyu! It's nice to meet you. How can I assist you today?\n",
      "Your name is Yiyu.\n",
      "The last character of your name, Yiyu, is the letter \"u.\"\n"
     ]
    }
   ],
   "source": [
    "from langchain.chains import ConversationChain\n",
    "from langchain.memory import ConversationBufferMemory\n",
    "\n",
    "memory = ConversationBufferMemory()\n",
    "conversation = ConversationChain(llm=chat,  memory=memory)\n",
    "\n",
    "print(conversation.predict(input=\"Hi, I'm Yiyu\"))\n",
    "print(conversation.predict(input=\"What's my name?\"))\n",
    "print(conversation.predict(input=\"Good, now, tell me what is the last character of my name?\"))"
   ]
  }
 ],
 "metadata": {
  "kernelspec": {
   "display_name": "Python 3",
   "language": "python",
   "name": "python3"
  },
  "language_info": {
   "codemirror_mode": {
    "name": "ipython",
    "version": 3
   },
   "file_extension": ".py",
   "mimetype": "text/x-python",
   "name": "python",
   "nbconvert_exporter": "python",
   "pygments_lexer": "ipython3",
   "version": "3.9.6"
  }
 },
 "nbformat": 4,
 "nbformat_minor": 5
}
